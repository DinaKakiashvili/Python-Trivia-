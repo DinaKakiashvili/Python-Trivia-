{
  "nbformat": 4,
  "nbformat_minor": 0,
  "metadata": {
    "colab": {
      "provenance": [],
      "authorship_tag": "ABX9TyPsLYPFvJqn4GVXidIH4oDy",
      "include_colab_link": true
    },
    "kernelspec": {
      "name": "python3",
      "display_name": "Python 3"
    },
    "language_info": {
      "name": "python"
    },
    "widgets": {
      "application/vnd.jupyter.widget-state+json": {
        "deb2eb733bc04b1fba0fabcb8d3c09ba": {
          "model_module": "@jupyter-widgets/controls",
          "model_name": "TextModel",
          "model_module_version": "1.5.0",
          "state": {
            "_dom_classes": [],
            "_model_module": "@jupyter-widgets/controls",
            "_model_module_version": "1.5.0",
            "_model_name": "TextModel",
            "_view_count": null,
            "_view_module": "@jupyter-widgets/controls",
            "_view_module_version": "1.5.0",
            "_view_name": "TextView",
            "continuous_update": true,
            "description": "",
            "description_tooltip": null,
            "disabled": false,
            "layout": "IPY_MODEL_cc67260ac3734bcfab61b5e8a3526fe9",
            "placeholder": "​",
            "style": "IPY_MODEL_b8e1bd271bdc4bd596abe1820f4760a3",
            "value": "Dina"
          }
        },
        "cc67260ac3734bcfab61b5e8a3526fe9": {
          "model_module": "@jupyter-widgets/base",
          "model_name": "LayoutModel",
          "model_module_version": "1.2.0",
          "state": {
            "_model_module": "@jupyter-widgets/base",
            "_model_module_version": "1.2.0",
            "_model_name": "LayoutModel",
            "_view_count": null,
            "_view_module": "@jupyter-widgets/base",
            "_view_module_version": "1.2.0",
            "_view_name": "LayoutView",
            "align_content": null,
            "align_items": null,
            "align_self": null,
            "border": null,
            "bottom": null,
            "display": null,
            "flex": null,
            "flex_flow": null,
            "grid_area": null,
            "grid_auto_columns": null,
            "grid_auto_flow": null,
            "grid_auto_rows": null,
            "grid_column": null,
            "grid_gap": null,
            "grid_row": null,
            "grid_template_areas": null,
            "grid_template_columns": null,
            "grid_template_rows": null,
            "height": null,
            "justify_content": null,
            "justify_items": null,
            "left": null,
            "margin": null,
            "max_height": null,
            "max_width": null,
            "min_height": null,
            "min_width": null,
            "object_fit": null,
            "object_position": null,
            "order": null,
            "overflow": null,
            "overflow_x": null,
            "overflow_y": null,
            "padding": null,
            "right": null,
            "top": null,
            "visibility": null,
            "width": null
          }
        },
        "b8e1bd271bdc4bd596abe1820f4760a3": {
          "model_module": "@jupyter-widgets/controls",
          "model_name": "DescriptionStyleModel",
          "model_module_version": "1.5.0",
          "state": {
            "_model_module": "@jupyter-widgets/controls",
            "_model_module_version": "1.5.0",
            "_model_name": "DescriptionStyleModel",
            "_view_count": null,
            "_view_module": "@jupyter-widgets/base",
            "_view_module_version": "1.2.0",
            "_view_name": "StyleView",
            "description_width": ""
          }
        },
        "c3c0039699454293a7429b0c6e2e274e": {
          "model_module": "@jupyter-widgets/controls",
          "model_name": "DropdownModel",
          "model_module_version": "1.5.0",
          "state": {
            "_dom_classes": [],
            "_model_module": "@jupyter-widgets/controls",
            "_model_module_version": "1.5.0",
            "_model_name": "DropdownModel",
            "_options_labels": [
              "Dina",
              "Natalie",
              "Dima",
              "David",
              "Or",
              "Bar"
            ],
            "_view_count": null,
            "_view_module": "@jupyter-widgets/controls",
            "_view_module_version": "1.5.0",
            "_view_name": "DropdownView",
            "description": "Pick a name:",
            "description_tooltip": null,
            "disabled": false,
            "index": 0,
            "layout": "IPY_MODEL_957dececf117448fa3f005384e512fa9",
            "style": "IPY_MODEL_3e10963b15094af2b37c550bc1d3753f"
          }
        },
        "957dececf117448fa3f005384e512fa9": {
          "model_module": "@jupyter-widgets/base",
          "model_name": "LayoutModel",
          "model_module_version": "1.2.0",
          "state": {
            "_model_module": "@jupyter-widgets/base",
            "_model_module_version": "1.2.0",
            "_model_name": "LayoutModel",
            "_view_count": null,
            "_view_module": "@jupyter-widgets/base",
            "_view_module_version": "1.2.0",
            "_view_name": "LayoutView",
            "align_content": null,
            "align_items": null,
            "align_self": null,
            "border": null,
            "bottom": null,
            "display": null,
            "flex": null,
            "flex_flow": null,
            "grid_area": null,
            "grid_auto_columns": null,
            "grid_auto_flow": null,
            "grid_auto_rows": null,
            "grid_column": null,
            "grid_gap": null,
            "grid_row": null,
            "grid_template_areas": null,
            "grid_template_columns": null,
            "grid_template_rows": null,
            "height": null,
            "justify_content": null,
            "justify_items": null,
            "left": null,
            "margin": null,
            "max_height": null,
            "max_width": null,
            "min_height": null,
            "min_width": null,
            "object_fit": null,
            "object_position": null,
            "order": null,
            "overflow": null,
            "overflow_x": null,
            "overflow_y": null,
            "padding": null,
            "right": null,
            "top": null,
            "visibility": null,
            "width": null
          }
        },
        "3e10963b15094af2b37c550bc1d3753f": {
          "model_module": "@jupyter-widgets/controls",
          "model_name": "DescriptionStyleModel",
          "model_module_version": "1.5.0",
          "state": {
            "_model_module": "@jupyter-widgets/controls",
            "_model_module_version": "1.5.0",
            "_model_name": "DescriptionStyleModel",
            "_view_count": null,
            "_view_module": "@jupyter-widgets/base",
            "_view_module_version": "1.2.0",
            "_view_name": "StyleView",
            "description_width": ""
          }
        },
        "e493750bb979456c85b5d089385c79d2": {
          "model_module": "@jupyter-widgets/controls",
          "model_name": "TextModel",
          "model_module_version": "1.5.0",
          "state": {
            "_dom_classes": [],
            "_model_module": "@jupyter-widgets/controls",
            "_model_module_version": "1.5.0",
            "_model_name": "TextModel",
            "_view_count": null,
            "_view_module": "@jupyter-widgets/controls",
            "_view_module_version": "1.5.0",
            "_view_name": "TextView",
            "continuous_update": true,
            "description": "TV show:",
            "description_tooltip": null,
            "disabled": false,
            "layout": "IPY_MODEL_8082f12e152442b392c510c75905ad54",
            "placeholder": "​",
            "style": "IPY_MODEL_2039bb3104d84cf3967c2bd99d7e2728",
            "value": "greys anatomy"
          }
        },
        "8082f12e152442b392c510c75905ad54": {
          "model_module": "@jupyter-widgets/base",
          "model_name": "LayoutModel",
          "model_module_version": "1.2.0",
          "state": {
            "_model_module": "@jupyter-widgets/base",
            "_model_module_version": "1.2.0",
            "_model_name": "LayoutModel",
            "_view_count": null,
            "_view_module": "@jupyter-widgets/base",
            "_view_module_version": "1.2.0",
            "_view_name": "LayoutView",
            "align_content": null,
            "align_items": null,
            "align_self": null,
            "border": null,
            "bottom": null,
            "display": null,
            "flex": null,
            "flex_flow": null,
            "grid_area": null,
            "grid_auto_columns": null,
            "grid_auto_flow": null,
            "grid_auto_rows": null,
            "grid_column": null,
            "grid_gap": null,
            "grid_row": null,
            "grid_template_areas": null,
            "grid_template_columns": null,
            "grid_template_rows": null,
            "height": null,
            "justify_content": null,
            "justify_items": null,
            "left": null,
            "margin": null,
            "max_height": null,
            "max_width": null,
            "min_height": null,
            "min_width": null,
            "object_fit": null,
            "object_position": null,
            "order": null,
            "overflow": null,
            "overflow_x": null,
            "overflow_y": null,
            "padding": null,
            "right": null,
            "top": null,
            "visibility": null,
            "width": null
          }
        },
        "2039bb3104d84cf3967c2bd99d7e2728": {
          "model_module": "@jupyter-widgets/controls",
          "model_name": "DescriptionStyleModel",
          "model_module_version": "1.5.0",
          "state": {
            "_model_module": "@jupyter-widgets/controls",
            "_model_module_version": "1.5.0",
            "_model_name": "DescriptionStyleModel",
            "_view_count": null,
            "_view_module": "@jupyter-widgets/base",
            "_view_module_version": "1.2.0",
            "_view_name": "StyleView",
            "description_width": ""
          }
        },
        "8b4c0551186d44cda94084273d35c033": {
          "model_module": "@jupyter-widgets/controls",
          "model_name": "ButtonModel",
          "model_module_version": "1.5.0",
          "state": {
            "_dom_classes": [],
            "_model_module": "@jupyter-widgets/controls",
            "_model_module_version": "1.5.0",
            "_model_name": "ButtonModel",
            "_view_count": null,
            "_view_module": "@jupyter-widgets/controls",
            "_view_module_version": "1.5.0",
            "_view_name": "ButtonView",
            "button_style": "",
            "description": "update",
            "disabled": false,
            "icon": "",
            "layout": "IPY_MODEL_82556a8ff0bf4b2694f2e4f35d775d0a",
            "style": "IPY_MODEL_1aec63987ac54661bdd08dd53a9a2fea",
            "tooltip": ""
          }
        },
        "82556a8ff0bf4b2694f2e4f35d775d0a": {
          "model_module": "@jupyter-widgets/base",
          "model_name": "LayoutModel",
          "model_module_version": "1.2.0",
          "state": {
            "_model_module": "@jupyter-widgets/base",
            "_model_module_version": "1.2.0",
            "_model_name": "LayoutModel",
            "_view_count": null,
            "_view_module": "@jupyter-widgets/base",
            "_view_module_version": "1.2.0",
            "_view_name": "LayoutView",
            "align_content": null,
            "align_items": null,
            "align_self": null,
            "border": null,
            "bottom": null,
            "display": null,
            "flex": null,
            "flex_flow": null,
            "grid_area": null,
            "grid_auto_columns": null,
            "grid_auto_flow": null,
            "grid_auto_rows": null,
            "grid_column": null,
            "grid_gap": null,
            "grid_row": null,
            "grid_template_areas": null,
            "grid_template_columns": null,
            "grid_template_rows": null,
            "height": null,
            "justify_content": null,
            "justify_items": null,
            "left": null,
            "margin": null,
            "max_height": null,
            "max_width": null,
            "min_height": null,
            "min_width": null,
            "object_fit": null,
            "object_position": null,
            "order": null,
            "overflow": null,
            "overflow_x": null,
            "overflow_y": null,
            "padding": null,
            "right": null,
            "top": null,
            "visibility": null,
            "width": null
          }
        },
        "1aec63987ac54661bdd08dd53a9a2fea": {
          "model_module": "@jupyter-widgets/controls",
          "model_name": "ButtonStyleModel",
          "model_module_version": "1.5.0",
          "state": {
            "_model_module": "@jupyter-widgets/controls",
            "_model_module_version": "1.5.0",
            "_model_name": "ButtonStyleModel",
            "_view_count": null,
            "_view_module": "@jupyter-widgets/base",
            "_view_module_version": "1.2.0",
            "_view_name": "StyleView",
            "button_color": null,
            "font_weight": ""
          }
        }
      }
    }
  },
  "cells": [
    {
      "cell_type": "markdown",
      "metadata": {
        "id": "view-in-github",
        "colab_type": "text"
      },
      "source": [
        "<a href=\"https://colab.research.google.com/github/DinaKakiashvili/test/blob/main/tut3_assignment.ipynb\" target=\"_parent\"><img src=\"https://colab.research.google.com/assets/colab-badge.svg\" alt=\"Open In Colab\"/></a>"
      ]
    },
    {
      "cell_type": "code",
      "execution_count": 6,
      "metadata": {
        "colab": {
          "base_uri": "https://localhost:8080/"
        },
        "id": "4LppguCBBvkd",
        "outputId": "9e008eed-92c2-4131-aaf1-6fdd5575eddd"
      },
      "outputs": [
        {
          "output_type": "stream",
          "name": "stdout",
          "text": [
            "Drive already mounted at /content/drive; to attempt to forcibly remount, call drive.mount(\"/content/drive\", force_remount=True).\n",
            "{'Dina': {'last name': 'Kakiashvili', 'mail': 'Dina.kakiashvili@e.braude.ac.il', 'Courses': ['Physics', 'Cloud', 'Web'], 'link': 'https://moodle22.braude.ac.il/'}, 'Natalie': {'last name': 'Nanikashvily', 'mail': 'Natalie.nanikashvily@e.braude.ac.il', 'Courses': ['Physics', 'Cloud', 'Web'], 'link': 'https://w3.braude.ac.il/new-student/flyer2022/online/station/'}, 'Dima': {'last name': 'Chudnovsky', 'mail': 'dima.chudnovsky@e.braude.ac.il', 'Courses': ['Physics', 'Cloud', 'Web'], 'link': 'https://il.shein.com/'}, 'David': {'last name': 'Asulin', 'mail': 'david.asulin@e.braude.ac.il', 'Courses': ['Physics', 'Cloud', 'Web'], 'link': 'https://www.asos.com/'}, 'Or': {'last name': 'Binyamin', 'mail': 'or.binyamin@e.braude.ac.il', 'Courses': ['Physics', 'Cloud', 'Web'], 'link': 'https://www.castro.com/'}, 'Bar': {'last name': 'Malka', 'mail': 'bar.malka@e.braude.ac.il', 'Courses': ['Physics', 'Cloud', 'Web'], 'link': 'https://www.pullandbear.com/il/'}}\n"
          ]
        }
      ],
      "source": [
        "import json\n",
        "from google.colab import drive\n",
        "drive.mount('/content/drive')\n",
        "\n",
        "with open('/content/drive/My Drive/students1.json') as f:\n",
        "  studDict=json.load(f)\n",
        "  print(studDict)\n",
        "\n",
        "f.close()"
      ]
    },
    {
      "cell_type": "code",
      "source": [
        "#@title Default title text\n",
        "from typing import Text\n",
        "import ipywidgets as widgets\n",
        "from IPython.display import display\n",
        "from ipywidgets import Button\n",
        "\n",
        "def printStudent(name):\n",
        "  print(\"Name:   \", name+\" \"+studDict[name][\"last name\"])\n",
        "  print(\"Mail:   \", studDict[name][\"mail\"])\n",
        "  print(\"Courses:\", studDict[name][\"Courses\"])\n",
        "  print(\"Link:   \", studDict[name][\"link\"])\n",
        "  if \"tv show\" in studDict[name]:\n",
        "    print(\"TV show:\", studDict[name][\"tv show\"])\n",
        "  print(\"------------------------------------------------\")\n",
        "\n",
        "def onchange(change):\n",
        "  if(change['type']=='change' and change['name']=='value'):\n",
        "   name=change['new']\n",
        "   printStudent(name)\n",
        "   txt1.value=w.value\n",
        "   tv.value=\"\"\n",
        "\n",
        "def clicked(a):\n",
        "  name=txt1.value\n",
        "  studDict[name].update({\"tv show\": tv.value})\n",
        "  printStudent(name)\n",
        "  with open('/content/drive/My Drive/students1.json','w') as f:\n",
        "    json.dump(studDict,f)\n",
        "  f.close()\n",
        "\n",
        "\n",
        "txt1=widgets.Text()\n",
        "txt1.value=list(studDict.keys())[0]\n",
        "display(txt1)\n",
        "\n",
        "w=widgets.Dropdown(\n",
        "    options=list(studDict.keys()),\n",
        "    value=list(studDict.keys())[0],\n",
        "    description=\"Pick a name:\",\n",
        ")\n",
        "\n",
        "w.observe(onchange)\n",
        "display(w)\n",
        "tv=widgets.Text(description='TV show:');\n",
        "display(tv)\n",
        "b1 = Button(description='update')\n",
        "b1.on_click(clicked)\n",
        "display(b1)"
      ],
      "metadata": {
        "id": "Von7ymyQCBy9",
        "colab": {
          "base_uri": "https://localhost:8080/",
          "height": 1000,
          "referenced_widgets": [
            "deb2eb733bc04b1fba0fabcb8d3c09ba",
            "cc67260ac3734bcfab61b5e8a3526fe9",
            "b8e1bd271bdc4bd596abe1820f4760a3",
            "c3c0039699454293a7429b0c6e2e274e",
            "957dececf117448fa3f005384e512fa9",
            "3e10963b15094af2b37c550bc1d3753f",
            "e493750bb979456c85b5d089385c79d2",
            "8082f12e152442b392c510c75905ad54",
            "2039bb3104d84cf3967c2bd99d7e2728",
            "8b4c0551186d44cda94084273d35c033",
            "82556a8ff0bf4b2694f2e4f35d775d0a",
            "1aec63987ac54661bdd08dd53a9a2fea"
          ]
        },
        "outputId": "3578c8df-c576-40ea-af87-cb2aed62754a"
      },
      "execution_count": 7,
      "outputs": [
        {
          "output_type": "display_data",
          "data": {
            "text/plain": [
              "Text(value='Dina')"
            ],
            "application/vnd.jupyter.widget-view+json": {
              "version_major": 2,
              "version_minor": 0,
              "model_id": "deb2eb733bc04b1fba0fabcb8d3c09ba"
            }
          },
          "metadata": {}
        },
        {
          "output_type": "display_data",
          "data": {
            "text/plain": [
              "Dropdown(description='Pick a name:', options=('Dina', 'Natalie', 'Dima', 'David', 'Or', 'Bar'), value='Dina')"
            ],
            "application/vnd.jupyter.widget-view+json": {
              "version_major": 2,
              "version_minor": 0,
              "model_id": "c3c0039699454293a7429b0c6e2e274e"
            }
          },
          "metadata": {}
        },
        {
          "output_type": "display_data",
          "data": {
            "text/plain": [
              "Text(value='', description='TV show:')"
            ],
            "application/vnd.jupyter.widget-view+json": {
              "version_major": 2,
              "version_minor": 0,
              "model_id": "e493750bb979456c85b5d089385c79d2"
            }
          },
          "metadata": {}
        },
        {
          "output_type": "display_data",
          "data": {
            "text/plain": [
              "Button(description='update', style=ButtonStyle())"
            ],
            "application/vnd.jupyter.widget-view+json": {
              "version_major": 2,
              "version_minor": 0,
              "model_id": "8b4c0551186d44cda94084273d35c033"
            }
          },
          "metadata": {}
        },
        {
          "output_type": "stream",
          "name": "stdout",
          "text": [
            "Name:    Natalie Nanikashvily\n",
            "Mail:    Natalie.nanikashvily@e.braude.ac.il\n",
            "Courses: ['Physics', 'Cloud', 'Web']\n",
            "Link:    https://w3.braude.ac.il/new-student/flyer2022/online/station/\n",
            "------------------------------------------------\n",
            "Name:    Natalie Nanikashvily\n",
            "Mail:    Natalie.nanikashvily@e.braude.ac.il\n",
            "Courses: ['Physics', 'Cloud', 'Web']\n",
            "Link:    https://w3.braude.ac.il/new-student/flyer2022/online/station/\n",
            "TV show: survivors\n",
            "------------------------------------------------\n",
            "Name:    Dima Chudnovsky\n",
            "Mail:    dima.chudnovsky@e.braude.ac.il\n",
            "Courses: ['Physics', 'Cloud', 'Web']\n",
            "Link:    https://il.shein.com/\n",
            "------------------------------------------------\n",
            "Name:    Dima Chudnovsky\n",
            "Mail:    dima.chudnovsky@e.braude.ac.il\n",
            "Courses: ['Physics', 'Cloud', 'Web']\n",
            "Link:    https://il.shein.com/\n",
            "TV show: suits\n",
            "------------------------------------------------\n",
            "Name:    David Asulin\n",
            "Mail:    david.asulin@e.braude.ac.il\n",
            "Courses: ['Physics', 'Cloud', 'Web']\n",
            "Link:    https://www.asos.com/\n",
            "------------------------------------------------\n",
            "Name:    David Asulin\n",
            "Mail:    david.asulin@e.braude.ac.il\n",
            "Courses: ['Physics', 'Cloud', 'Web']\n",
            "Link:    https://www.asos.com/\n",
            "TV show: breaking bad\n",
            "------------------------------------------------\n",
            "Name:    Or Binyamin\n",
            "Mail:    or.binyamin@e.braude.ac.il\n",
            "Courses: ['Physics', 'Cloud', 'Web']\n",
            "Link:    https://www.castro.com/\n",
            "------------------------------------------------\n",
            "Name:    Or Binyamin\n",
            "Mail:    or.binyamin@e.braude.ac.il\n",
            "Courses: ['Physics', 'Cloud', 'Web']\n",
            "Link:    https://www.castro.com/\n",
            "TV show: the vikings\n",
            "------------------------------------------------\n",
            "Name:    Bar Malka\n",
            "Mail:    bar.malka@e.braude.ac.il\n",
            "Courses: ['Physics', 'Cloud', 'Web']\n",
            "Link:    https://www.pullandbear.com/il/\n",
            "------------------------------------------------\n",
            "Name:    Bar Malka\n",
            "Mail:    bar.malka@e.braude.ac.il\n",
            "Courses: ['Physics', 'Cloud', 'Web']\n",
            "Link:    https://www.pullandbear.com/il/\n",
            "TV show: friends\n",
            "------------------------------------------------\n",
            "Name:    Dina Kakiashvili\n",
            "Mail:    Dina.kakiashvili@e.braude.ac.il\n",
            "Courses: ['Physics', 'Cloud', 'Web']\n",
            "Link:    https://moodle22.braude.ac.il/\n",
            "------------------------------------------------\n",
            "Name:    Dina Kakiashvili\n",
            "Mail:    Dina.kakiashvili@e.braude.ac.il\n",
            "Courses: ['Physics', 'Cloud', 'Web']\n",
            "Link:    https://moodle22.braude.ac.il/\n",
            "TV show: greys anatomy\n",
            "------------------------------------------------\n"
          ]
        }
      ]
    }
  ]
}