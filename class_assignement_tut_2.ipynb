{
  "nbformat": 4,
  "nbformat_minor": 0,
  "metadata": {
    "colab": {
      "provenance": [],
      "authorship_tag": "ABX9TyMb6TDRUOKd7+fhgI8XlImW",
      "include_colab_link": true
    },
    "kernelspec": {
      "name": "python3",
      "display_name": "Python 3"
    },
    "language_info": {
      "name": "python"
    },
    "widgets": {
      "application/vnd.jupyter.widget-state+json": {
        "ca53c617e1eb48698bd429036629e48e": {
          "model_module": "@jupyter-widgets/controls",
          "model_name": "TextModel",
          "model_module_version": "1.5.0",
          "state": {
            "_dom_classes": [],
            "_model_module": "@jupyter-widgets/controls",
            "_model_module_version": "1.5.0",
            "_model_name": "TextModel",
            "_view_count": null,
            "_view_module": "@jupyter-widgets/controls",
            "_view_module_version": "1.5.0",
            "_view_name": "TextView",
            "continuous_update": true,
            "description": "",
            "description_tooltip": null,
            "disabled": false,
            "layout": "IPY_MODEL_9173836ad2c64b74bc28af09beeb8092",
            "placeholder": "​",
            "style": "IPY_MODEL_eeb0c48f270c4d2d8f7ebb17cd05b6c5",
            "value": "Dina"
          }
        },
        "9173836ad2c64b74bc28af09beeb8092": {
          "model_module": "@jupyter-widgets/base",
          "model_name": "LayoutModel",
          "model_module_version": "1.2.0",
          "state": {
            "_model_module": "@jupyter-widgets/base",
            "_model_module_version": "1.2.0",
            "_model_name": "LayoutModel",
            "_view_count": null,
            "_view_module": "@jupyter-widgets/base",
            "_view_module_version": "1.2.0",
            "_view_name": "LayoutView",
            "align_content": null,
            "align_items": null,
            "align_self": null,
            "border": null,
            "bottom": null,
            "display": null,
            "flex": null,
            "flex_flow": null,
            "grid_area": null,
            "grid_auto_columns": null,
            "grid_auto_flow": null,
            "grid_auto_rows": null,
            "grid_column": null,
            "grid_gap": null,
            "grid_row": null,
            "grid_template_areas": null,
            "grid_template_columns": null,
            "grid_template_rows": null,
            "height": null,
            "justify_content": null,
            "justify_items": null,
            "left": null,
            "margin": null,
            "max_height": null,
            "max_width": null,
            "min_height": null,
            "min_width": null,
            "object_fit": null,
            "object_position": null,
            "order": null,
            "overflow": null,
            "overflow_x": null,
            "overflow_y": null,
            "padding": null,
            "right": null,
            "top": null,
            "visibility": null,
            "width": null
          }
        },
        "eeb0c48f270c4d2d8f7ebb17cd05b6c5": {
          "model_module": "@jupyter-widgets/controls",
          "model_name": "DescriptionStyleModel",
          "model_module_version": "1.5.0",
          "state": {
            "_model_module": "@jupyter-widgets/controls",
            "_model_module_version": "1.5.0",
            "_model_name": "DescriptionStyleModel",
            "_view_count": null,
            "_view_module": "@jupyter-widgets/base",
            "_view_module_version": "1.2.0",
            "_view_name": "StyleView",
            "description_width": ""
          }
        },
        "7525f578664143a4b4e72cd119c5530a": {
          "model_module": "@jupyter-widgets/controls",
          "model_name": "DropdownModel",
          "model_module_version": "1.5.0",
          "state": {
            "_dom_classes": [],
            "_model_module": "@jupyter-widgets/controls",
            "_model_module_version": "1.5.0",
            "_model_name": "DropdownModel",
            "_options_labels": [
              "Dina",
              "Natalie",
              "Or",
              "Bar",
              "David",
              "Dima"
            ],
            "_view_count": null,
            "_view_module": "@jupyter-widgets/controls",
            "_view_module_version": "1.5.0",
            "_view_name": "DropdownView",
            "description": "Pick a name:",
            "description_tooltip": null,
            "disabled": false,
            "index": 0,
            "layout": "IPY_MODEL_4d8c0bdcbcb14904a46b2275f58cf42d",
            "style": "IPY_MODEL_2c8bfc72e3d84780b681ebe6c13cb62e"
          }
        },
        "4d8c0bdcbcb14904a46b2275f58cf42d": {
          "model_module": "@jupyter-widgets/base",
          "model_name": "LayoutModel",
          "model_module_version": "1.2.0",
          "state": {
            "_model_module": "@jupyter-widgets/base",
            "_model_module_version": "1.2.0",
            "_model_name": "LayoutModel",
            "_view_count": null,
            "_view_module": "@jupyter-widgets/base",
            "_view_module_version": "1.2.0",
            "_view_name": "LayoutView",
            "align_content": null,
            "align_items": null,
            "align_self": null,
            "border": null,
            "bottom": null,
            "display": null,
            "flex": null,
            "flex_flow": null,
            "grid_area": null,
            "grid_auto_columns": null,
            "grid_auto_flow": null,
            "grid_auto_rows": null,
            "grid_column": null,
            "grid_gap": null,
            "grid_row": null,
            "grid_template_areas": null,
            "grid_template_columns": null,
            "grid_template_rows": null,
            "height": null,
            "justify_content": null,
            "justify_items": null,
            "left": null,
            "margin": null,
            "max_height": null,
            "max_width": null,
            "min_height": null,
            "min_width": null,
            "object_fit": null,
            "object_position": null,
            "order": null,
            "overflow": null,
            "overflow_x": null,
            "overflow_y": null,
            "padding": null,
            "right": null,
            "top": null,
            "visibility": null,
            "width": null
          }
        },
        "2c8bfc72e3d84780b681ebe6c13cb62e": {
          "model_module": "@jupyter-widgets/controls",
          "model_name": "DescriptionStyleModel",
          "model_module_version": "1.5.0",
          "state": {
            "_model_module": "@jupyter-widgets/controls",
            "_model_module_version": "1.5.0",
            "_model_name": "DescriptionStyleModel",
            "_view_count": null,
            "_view_module": "@jupyter-widgets/base",
            "_view_module_version": "1.2.0",
            "_view_name": "StyleView",
            "description_width": ""
          }
        }
      }
    }
  },
  "cells": [
    {
      "cell_type": "markdown",
      "metadata": {
        "id": "view-in-github",
        "colab_type": "text"
      },
      "source": [
        "<a href=\"https://colab.research.google.com/github/DinaKakiashvili/test/blob/main/class_assignement_tut_2.ipynb\" target=\"_parent\"><img src=\"https://colab.research.google.com/assets/colab-badge.svg\" alt=\"Open In Colab\"/></a>"
      ]
    },
    {
      "cell_type": "code",
      "source": [
        "from google.colab import drive\n",
        "drive.mount('/content/drive')"
      ],
      "metadata": {
        "colab": {
          "base_uri": "https://localhost:8080/"
        },
        "id": "D4nlu12xsJET",
        "outputId": "45f5afcf-b013-4cfa-c4bc-da6ae7fb6709"
      },
      "execution_count": 15,
      "outputs": [
        {
          "output_type": "stream",
          "name": "stdout",
          "text": [
            "Drive already mounted at /content/drive; to attempt to forcibly remount, call drive.mount(\"/content/drive\", force_remount=True).\n"
          ]
        }
      ]
    },
    {
      "cell_type": "code",
      "source": [
        "cd /content/drive/MyDrive"
      ],
      "metadata": {
        "colab": {
          "base_uri": "https://localhost:8080/"
        },
        "id": "oonTAr6MsA-J",
        "outputId": "08aa50e6-0997-438e-9257-31792dc824b5"
      },
      "execution_count": 16,
      "outputs": [
        {
          "output_type": "stream",
          "name": "stdout",
          "text": [
            "/content/drive/MyDrive\n"
          ]
        }
      ]
    },
    {
      "cell_type": "code",
      "execution_count": 24,
      "metadata": {
        "colab": {
          "base_uri": "https://localhost:8080/"
        },
        "id": "NyrVZ6bdp79Y",
        "outputId": "7bea77af-f485-4ec5-e756-ff007196c0a9"
      },
      "outputs": [
        {
          "output_type": "stream",
          "name": "stdout",
          "text": [
            "['Dina', 'Kakiashvili', 'Dina.kakiashvili@e.braude.ac.il', 'Natalie', 'Nanikashvily', 'Natalie.Nanikashvily@e.braude.ac.il', 'Or', 'Binyamin', 'Or.Binyamin@e.braude.ac.il', 'Bar', 'Malka', 'Bar.Malka@e.braude.ac.il', 'David', 'Asulin', 'DavidAsulin@e.braude.ac.il', 'Dima', 'Chudnovsky', 'DimaChudnovsky@e.braude.ac.il']\n"
          ]
        }
      ],
      "source": [
        "with open('students.txt', 'r') as file:\n",
        "  Lines = file.read()\n",
        "  Words=Lines.split()\n",
        "  print(Words)\n",
        "file.close()"
      ]
    },
    {
      "cell_type": "code",
      "source": [
        "#@title Default title text "
      ],
      "metadata": {
        "id": "zbuJCpOUsh8I"
      },
      "execution_count": 18,
      "outputs": []
    },
    {
      "cell_type": "code",
      "source": [
        "from typing import Text\n",
        "import ipywidgets as widgets\n",
        "from IPython.display import display\n",
        "\n",
        "txt1=widgets.Text()\n",
        "txt1.value=Words[0]\n",
        "display(txt1)\n",
        "\n",
        "w=widgets.Dropdown(\n",
        "    options=[Words[i] for i in range(0,len(Words),3)],\n",
        "    value=Words[0],\n",
        "    description=\"Pick a name:\",\n",
        ")\n",
        "\n",
        "def onchange(change):\n",
        "  if(change['type']=='change' and change['name']=='value'):\n",
        "   name=change['new']\n",
        "   for i in range(len(Words)):\n",
        "     if Words[i]==name:\n",
        "       print( \" \".join(Words[i:i+3]))\n",
        "  txt1.value=w.value\n",
        "\n",
        "w.observe(onchange)\n",
        "display(w)\n"
      ],
      "metadata": {
        "colab": {
          "base_uri": "https://localhost:8080/",
          "height": 200,
          "referenced_widgets": [
            "ca53c617e1eb48698bd429036629e48e",
            "9173836ad2c64b74bc28af09beeb8092",
            "eeb0c48f270c4d2d8f7ebb17cd05b6c5",
            "7525f578664143a4b4e72cd119c5530a",
            "4d8c0bdcbcb14904a46b2275f58cf42d",
            "2c8bfc72e3d84780b681ebe6c13cb62e"
          ]
        },
        "id": "n_Wkf5Ghx3dG",
        "outputId": "bbc414e8-3617-4594-d56a-71651afbf00d"
      },
      "execution_count": 25,
      "outputs": [
        {
          "output_type": "display_data",
          "data": {
            "text/plain": [
              "Text(value='Dina')"
            ],
            "application/vnd.jupyter.widget-view+json": {
              "version_major": 2,
              "version_minor": 0,
              "model_id": "ca53c617e1eb48698bd429036629e48e"
            }
          },
          "metadata": {}
        },
        {
          "output_type": "display_data",
          "data": {
            "text/plain": [
              "Dropdown(description='Pick a name:', options=('Dina', 'Natalie', 'Or', 'Bar', 'David', 'Dima'), value='Dina')"
            ],
            "application/vnd.jupyter.widget-view+json": {
              "version_major": 2,
              "version_minor": 0,
              "model_id": "7525f578664143a4b4e72cd119c5530a"
            }
          },
          "metadata": {}
        },
        {
          "output_type": "stream",
          "name": "stdout",
          "text": [
            "Natalie Nanikashvily Natalie.Nanikashvily@e.braude.ac.il\n",
            "Or Binyamin Or.Binyamin@e.braude.ac.il\n",
            "Bar Malka Bar.Malka@e.braude.ac.il\n",
            "David Asulin DavidAsulin@e.braude.ac.il\n",
            "Dima Chudnovsky DimaChudnovsky@e.braude.ac.il\n",
            "Natalie Nanikashvily Natalie.Nanikashvily@e.braude.ac.il\n",
            "Dina Kakiashvili Dina.kakiashvili@e.braude.ac.il\n"
          ]
        }
      ]
    }
  ]
}