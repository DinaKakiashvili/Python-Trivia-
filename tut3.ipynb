{
  "nbformat": 4,
  "nbformat_minor": 0,
  "metadata": {
    "colab": {
      "provenance": [],
      "authorship_tag": "ABX9TyMRQOVnMgRK38PP6qwXWcAH",
      "include_colab_link": true
    },
    "kernelspec": {
      "name": "python3",
      "display_name": "Python 3"
    },
    "language_info": {
      "name": "python"
    },
    "widgets": {
      "application/vnd.jupyter.widget-state+json": {
        "98f123fe9ca34b6ba1c518fb472f82de": {
          "model_module": "@jupyter-widgets/controls",
          "model_name": "TextModel",
          "model_module_version": "1.5.0",
          "state": {
            "_dom_classes": [],
            "_model_module": "@jupyter-widgets/controls",
            "_model_module_version": "1.5.0",
            "_model_name": "TextModel",
            "_view_count": null,
            "_view_module": "@jupyter-widgets/controls",
            "_view_module_version": "1.5.0",
            "_view_name": "TextView",
            "continuous_update": true,
            "description": "",
            "description_tooltip": null,
            "disabled": false,
            "layout": "IPY_MODEL_0cf646c2e20a4c06a730843ba7d1b66d",
            "placeholder": "​",
            "style": "IPY_MODEL_e075e1f6532348158e4aca202153b3f6",
            "value": "Bar"
          }
        },
        "0cf646c2e20a4c06a730843ba7d1b66d": {
          "model_module": "@jupyter-widgets/base",
          "model_name": "LayoutModel",
          "model_module_version": "1.2.0",
          "state": {
            "_model_module": "@jupyter-widgets/base",
            "_model_module_version": "1.2.0",
            "_model_name": "LayoutModel",
            "_view_count": null,
            "_view_module": "@jupyter-widgets/base",
            "_view_module_version": "1.2.0",
            "_view_name": "LayoutView",
            "align_content": null,
            "align_items": null,
            "align_self": null,
            "border": null,
            "bottom": null,
            "display": null,
            "flex": null,
            "flex_flow": null,
            "grid_area": null,
            "grid_auto_columns": null,
            "grid_auto_flow": null,
            "grid_auto_rows": null,
            "grid_column": null,
            "grid_gap": null,
            "grid_row": null,
            "grid_template_areas": null,
            "grid_template_columns": null,
            "grid_template_rows": null,
            "height": null,
            "justify_content": null,
            "justify_items": null,
            "left": null,
            "margin": null,
            "max_height": null,
            "max_width": null,
            "min_height": null,
            "min_width": null,
            "object_fit": null,
            "object_position": null,
            "order": null,
            "overflow": null,
            "overflow_x": null,
            "overflow_y": null,
            "padding": null,
            "right": null,
            "top": null,
            "visibility": null,
            "width": null
          }
        },
        "e075e1f6532348158e4aca202153b3f6": {
          "model_module": "@jupyter-widgets/controls",
          "model_name": "DescriptionStyleModel",
          "model_module_version": "1.5.0",
          "state": {
            "_model_module": "@jupyter-widgets/controls",
            "_model_module_version": "1.5.0",
            "_model_name": "DescriptionStyleModel",
            "_view_count": null,
            "_view_module": "@jupyter-widgets/base",
            "_view_module_version": "1.2.0",
            "_view_name": "StyleView",
            "description_width": ""
          }
        },
        "874989eb84e54d15ab3bb38b56035714": {
          "model_module": "@jupyter-widgets/controls",
          "model_name": "DropdownModel",
          "model_module_version": "1.5.0",
          "state": {
            "_dom_classes": [],
            "_model_module": "@jupyter-widgets/controls",
            "_model_module_version": "1.5.0",
            "_model_name": "DropdownModel",
            "_options_labels": [
              "Dina",
              "Natalie",
              "Dima",
              "David",
              "Or",
              "Bar"
            ],
            "_view_count": null,
            "_view_module": "@jupyter-widgets/controls",
            "_view_module_version": "1.5.0",
            "_view_name": "DropdownView",
            "description": "Pick a name:",
            "description_tooltip": null,
            "disabled": false,
            "index": 5,
            "layout": "IPY_MODEL_0b153d2338cb4e80b202ac76e4596791",
            "style": "IPY_MODEL_36f0e2c4f3cb4d13897a0d06683bf069"
          }
        },
        "0b153d2338cb4e80b202ac76e4596791": {
          "model_module": "@jupyter-widgets/base",
          "model_name": "LayoutModel",
          "model_module_version": "1.2.0",
          "state": {
            "_model_module": "@jupyter-widgets/base",
            "_model_module_version": "1.2.0",
            "_model_name": "LayoutModel",
            "_view_count": null,
            "_view_module": "@jupyter-widgets/base",
            "_view_module_version": "1.2.0",
            "_view_name": "LayoutView",
            "align_content": null,
            "align_items": null,
            "align_self": null,
            "border": null,
            "bottom": null,
            "display": null,
            "flex": null,
            "flex_flow": null,
            "grid_area": null,
            "grid_auto_columns": null,
            "grid_auto_flow": null,
            "grid_auto_rows": null,
            "grid_column": null,
            "grid_gap": null,
            "grid_row": null,
            "grid_template_areas": null,
            "grid_template_columns": null,
            "grid_template_rows": null,
            "height": null,
            "justify_content": null,
            "justify_items": null,
            "left": null,
            "margin": null,
            "max_height": null,
            "max_width": null,
            "min_height": null,
            "min_width": null,
            "object_fit": null,
            "object_position": null,
            "order": null,
            "overflow": null,
            "overflow_x": null,
            "overflow_y": null,
            "padding": null,
            "right": null,
            "top": null,
            "visibility": null,
            "width": null
          }
        },
        "36f0e2c4f3cb4d13897a0d06683bf069": {
          "model_module": "@jupyter-widgets/controls",
          "model_name": "DescriptionStyleModel",
          "model_module_version": "1.5.0",
          "state": {
            "_model_module": "@jupyter-widgets/controls",
            "_model_module_version": "1.5.0",
            "_model_name": "DescriptionStyleModel",
            "_view_count": null,
            "_view_module": "@jupyter-widgets/base",
            "_view_module_version": "1.2.0",
            "_view_name": "StyleView",
            "description_width": ""
          }
        },
        "aba6410c3b5347d7b132f6d1416c3418": {
          "model_module": "@jupyter-widgets/controls",
          "model_name": "TextModel",
          "model_module_version": "1.5.0",
          "state": {
            "_dom_classes": [],
            "_model_module": "@jupyter-widgets/controls",
            "_model_module_version": "1.5.0",
            "_model_name": "TextModel",
            "_view_count": null,
            "_view_module": "@jupyter-widgets/controls",
            "_view_module_version": "1.5.0",
            "_view_name": "TextView",
            "continuous_update": true,
            "description": "TV show:",
            "description_tooltip": null,
            "disabled": false,
            "layout": "IPY_MODEL_7429e90e4add4f8994a5c8229f7ef0c2",
            "placeholder": "​",
            "style": "IPY_MODEL_19675f23cc844f4f8ba0afdb349ac2a3",
            "value": "SUITS"
          }
        },
        "7429e90e4add4f8994a5c8229f7ef0c2": {
          "model_module": "@jupyter-widgets/base",
          "model_name": "LayoutModel",
          "model_module_version": "1.2.0",
          "state": {
            "_model_module": "@jupyter-widgets/base",
            "_model_module_version": "1.2.0",
            "_model_name": "LayoutModel",
            "_view_count": null,
            "_view_module": "@jupyter-widgets/base",
            "_view_module_version": "1.2.0",
            "_view_name": "LayoutView",
            "align_content": null,
            "align_items": null,
            "align_self": null,
            "border": null,
            "bottom": null,
            "display": null,
            "flex": null,
            "flex_flow": null,
            "grid_area": null,
            "grid_auto_columns": null,
            "grid_auto_flow": null,
            "grid_auto_rows": null,
            "grid_column": null,
            "grid_gap": null,
            "grid_row": null,
            "grid_template_areas": null,
            "grid_template_columns": null,
            "grid_template_rows": null,
            "height": null,
            "justify_content": null,
            "justify_items": null,
            "left": null,
            "margin": null,
            "max_height": null,
            "max_width": null,
            "min_height": null,
            "min_width": null,
            "object_fit": null,
            "object_position": null,
            "order": null,
            "overflow": null,
            "overflow_x": null,
            "overflow_y": null,
            "padding": null,
            "right": null,
            "top": null,
            "visibility": null,
            "width": null
          }
        },
        "19675f23cc844f4f8ba0afdb349ac2a3": {
          "model_module": "@jupyter-widgets/controls",
          "model_name": "DescriptionStyleModel",
          "model_module_version": "1.5.0",
          "state": {
            "_model_module": "@jupyter-widgets/controls",
            "_model_module_version": "1.5.0",
            "_model_name": "DescriptionStyleModel",
            "_view_count": null,
            "_view_module": "@jupyter-widgets/base",
            "_view_module_version": "1.2.0",
            "_view_name": "StyleView",
            "description_width": ""
          }
        },
        "95a1c559783943cb959d83b3a9820147": {
          "model_module": "@jupyter-widgets/controls",
          "model_name": "ButtonModel",
          "model_module_version": "1.5.0",
          "state": {
            "_dom_classes": [],
            "_model_module": "@jupyter-widgets/controls",
            "_model_module_version": "1.5.0",
            "_model_name": "ButtonModel",
            "_view_count": null,
            "_view_module": "@jupyter-widgets/controls",
            "_view_module_version": "1.5.0",
            "_view_name": "ButtonView",
            "button_style": "",
            "description": "update",
            "disabled": false,
            "icon": "",
            "layout": "IPY_MODEL_daa12195e3c04bf4be5c95ed1d27126c",
            "style": "IPY_MODEL_e3e7d84c8e154fd3a4f14e7229eec090",
            "tooltip": ""
          }
        },
        "daa12195e3c04bf4be5c95ed1d27126c": {
          "model_module": "@jupyter-widgets/base",
          "model_name": "LayoutModel",
          "model_module_version": "1.2.0",
          "state": {
            "_model_module": "@jupyter-widgets/base",
            "_model_module_version": "1.2.0",
            "_model_name": "LayoutModel",
            "_view_count": null,
            "_view_module": "@jupyter-widgets/base",
            "_view_module_version": "1.2.0",
            "_view_name": "LayoutView",
            "align_content": null,
            "align_items": null,
            "align_self": null,
            "border": null,
            "bottom": null,
            "display": null,
            "flex": null,
            "flex_flow": null,
            "grid_area": null,
            "grid_auto_columns": null,
            "grid_auto_flow": null,
            "grid_auto_rows": null,
            "grid_column": null,
            "grid_gap": null,
            "grid_row": null,
            "grid_template_areas": null,
            "grid_template_columns": null,
            "grid_template_rows": null,
            "height": null,
            "justify_content": null,
            "justify_items": null,
            "left": null,
            "margin": null,
            "max_height": null,
            "max_width": null,
            "min_height": null,
            "min_width": null,
            "object_fit": null,
            "object_position": null,
            "order": null,
            "overflow": null,
            "overflow_x": null,
            "overflow_y": null,
            "padding": null,
            "right": null,
            "top": null,
            "visibility": null,
            "width": null
          }
        },
        "e3e7d84c8e154fd3a4f14e7229eec090": {
          "model_module": "@jupyter-widgets/controls",
          "model_name": "ButtonStyleModel",
          "model_module_version": "1.5.0",
          "state": {
            "_model_module": "@jupyter-widgets/controls",
            "_model_module_version": "1.5.0",
            "_model_name": "ButtonStyleModel",
            "_view_count": null,
            "_view_module": "@jupyter-widgets/base",
            "_view_module_version": "1.2.0",
            "_view_name": "StyleView",
            "button_color": null,
            "font_weight": ""
          }
        }
      }
    }
  },
  "cells": [
    {
      "cell_type": "markdown",
      "metadata": {
        "id": "view-in-github",
        "colab_type": "text"
      },
      "source": [
        "<a href=\"https://colab.research.google.com/github/DinaKakiashvili/test/blob/main/tut3.ipynb\" target=\"_parent\"><img src=\"https://colab.research.google.com/assets/colab-badge.svg\" alt=\"Open In Colab\"/></a>"
      ]
    },
    {
      "cell_type": "code",
      "execution_count": 101,
      "metadata": {
        "colab": {
          "base_uri": "https://localhost:8080/"
        },
        "id": "56mehtN5-ubj",
        "outputId": "c34496ab-4073-4596-c09d-f3e0b8160576"
      },
      "outputs": [
        {
          "output_type": "stream",
          "name": "stdout",
          "text": [
            "Drive already mounted at /content/drive; to attempt to forcibly remount, call drive.mount(\"/content/drive\", force_remount=True).\n"
          ]
        }
      ],
      "source": [
        "import json\n",
        "from google.colab import drive\n",
        "drive.mount('/content/drive')\n",
        "\n",
        "studentsList = []\n",
        "with open('/content/drive/My Drive/students1.json') as f:\n",
        "  studDict=json.load(f)\n",
        "\n",
        "f.close()"
      ]
    },
    {
      "cell_type": "code",
      "source": [
        "#@title Default title text\n",
        "from typing import Text\n",
        "import ipywidgets as widgets\n",
        "from IPython.display import display\n",
        "from ipywidgets import Button\n",
        "\n",
        "def p(i):\n",
        "  print(\"Name:   \", studDict[i][\"first name\"]+\" \"+studDict[i][\"last name\"])\n",
        "  print(\"Mail:   \", studDict[i][\"mail\"])\n",
        "  print(\"Courses:\", studDict[i][\"Courses\"])\n",
        "  print(\"Link:   \", studDict[i][\"link\"])\n",
        "  if \"tv show\" in studDict[i]:\n",
        "    print(\"TV show:\", studDict[i][\"tv show\"])\n",
        "  print(\"------------------------------------------------\")\n",
        "\n",
        "\n",
        "def onchange(change):\n",
        "  if(change['type']=='change' and change['name']=='value'):\n",
        "   name=change['new']\n",
        "   for i in range(len(studDict)):\n",
        "     if studDict[i][\"first name\"]==name:\n",
        "       p(i)                                  \n",
        "  txt1.value=w.value\n",
        "  tv.value=\"\"\n",
        "\n",
        "def clicked(a):\n",
        "  for i in range(len(studDict)):\n",
        "    if studDict[i][\"first name\"]==txt1.value:\n",
        "      studDict[i].update({\"tv show\": tv.value})\n",
        "      p(i)\n",
        "  with open('/content/drive/My Drive/students1.json','w') as f:\n",
        "    json.dump(studDict,f)\n",
        "  f.close()\n",
        "\n",
        "txt1=widgets.Text()\n",
        "txt1.value=studDict[0][\"first name\"]\n",
        "display(txt1)\n",
        "\n",
        "\n",
        "w=widgets.Dropdown(\n",
        "    options=[studDict[i][\"first name\"] for i in range(0,len(studDict))],\n",
        "    value=studDict[0][\"first name\"],\n",
        "    description=\"Pick a name:\",\n",
        ")\n",
        "\n",
        "w.observe(onchange)\n",
        "display(w)\n",
        "tv=widgets.Text(description='TV show:');\n",
        "display(tv)\n",
        "b1 = Button(description='update')\n",
        "b1.on_click(clicked)\n",
        "display(b1)"
      ],
      "metadata": {
        "colab": {
          "base_uri": "https://localhost:8080/",
          "height": 1000,
          "referenced_widgets": [
            "98f123fe9ca34b6ba1c518fb472f82de",
            "0cf646c2e20a4c06a730843ba7d1b66d",
            "e075e1f6532348158e4aca202153b3f6",
            "874989eb84e54d15ab3bb38b56035714",
            "0b153d2338cb4e80b202ac76e4596791",
            "36f0e2c4f3cb4d13897a0d06683bf069",
            "aba6410c3b5347d7b132f6d1416c3418",
            "7429e90e4add4f8994a5c8229f7ef0c2",
            "19675f23cc844f4f8ba0afdb349ac2a3",
            "95a1c559783943cb959d83b3a9820147",
            "daa12195e3c04bf4be5c95ed1d27126c",
            "e3e7d84c8e154fd3a4f14e7229eec090"
          ]
        },
        "id": "l7G5PsRj-z73",
        "outputId": "24059b3b-799f-4160-ae8a-b0d6c8b67b32"
      },
      "execution_count": 100,
      "outputs": [
        {
          "output_type": "display_data",
          "data": {
            "text/plain": [
              "Text(value='Dina')"
            ],
            "application/vnd.jupyter.widget-view+json": {
              "version_major": 2,
              "version_minor": 0,
              "model_id": "98f123fe9ca34b6ba1c518fb472f82de"
            }
          },
          "metadata": {}
        },
        {
          "output_type": "display_data",
          "data": {
            "text/plain": [
              "Dropdown(description='Pick a name:', options=('Dina', 'Natalie', 'Dima', 'David', 'Or', 'Bar'), value='Dina')"
            ],
            "application/vnd.jupyter.widget-view+json": {
              "version_major": 2,
              "version_minor": 0,
              "model_id": "874989eb84e54d15ab3bb38b56035714"
            }
          },
          "metadata": {}
        },
        {
          "output_type": "display_data",
          "data": {
            "text/plain": [
              "Text(value='', description='TV show:')"
            ],
            "application/vnd.jupyter.widget-view+json": {
              "version_major": 2,
              "version_minor": 0,
              "model_id": "aba6410c3b5347d7b132f6d1416c3418"
            }
          },
          "metadata": {}
        },
        {
          "output_type": "display_data",
          "data": {
            "text/plain": [
              "Button(description='update', style=ButtonStyle())"
            ],
            "application/vnd.jupyter.widget-view+json": {
              "version_major": 2,
              "version_minor": 0,
              "model_id": "95a1c559783943cb959d83b3a9820147"
            }
          },
          "metadata": {}
        },
        {
          "output_type": "stream",
          "name": "stdout",
          "text": [
            "Name:    Natalie Nanikashvily\n",
            "Mail:    Natalie.nanikashvily@e.braude.ac.il\n",
            "Courses: ['Physics', 'Cloud', 'Web']\n",
            "Link:    https://w3.braude.ac.il/new-student/flyer2022/online/station/\n",
            "------------------------------------------------\n",
            "Name:    Natalie Nanikashvily\n",
            "Mail:    Natalie.nanikashvily@e.braude.ac.il\n",
            "Courses: ['Physics', 'Cloud', 'Web']\n",
            "Link:    https://w3.braude.ac.il/new-student/flyer2022/online/station/\n",
            "TV show: the big brother\n",
            "------------------------------------------------\n",
            "Name:    Dina Kakiashvili\n",
            "Mail:    Dina.kakiashvili@e.braude.ac.il\n",
            "Courses: ['Physics', 'Cloud', 'Web']\n",
            "Link:    https://moodle22.braude.ac.il/\n",
            "------------------------------------------------\n",
            "Name:    Dina Kakiashvili\n",
            "Mail:    Dina.kakiashvili@e.braude.ac.il\n",
            "Courses: ['Physics', 'Cloud', 'Web']\n",
            "Link:    https://moodle22.braude.ac.il/\n",
            "TV show: Greys anatomy\n",
            "------------------------------------------------\n",
            "Name:    Dima Chudnovsky\n",
            "Mail:    dima.chudnovsky@e.braude.ac.il\n",
            "Courses: ['Physics', 'Cloud', 'Web']\n",
            "Link:    https://il.shein.com/\n",
            "------------------------------------------------\n",
            "Name:    Dima Chudnovsky\n",
            "Mail:    dima.chudnovsky@e.braude.ac.il\n",
            "Courses: ['Physics', 'Cloud', 'Web']\n",
            "Link:    https://il.shein.com/\n",
            "TV show: Breaking bad\n",
            "------------------------------------------------\n",
            "Name:    David Asulin\n",
            "Mail:    david.asulin@e.braude.ac.il\n",
            "Courses: ['Physics', 'Cloud', 'Web']\n",
            "Link:    https://www.asos.com/\n",
            "------------------------------------------------\n",
            "Name:    David Asulin\n",
            "Mail:    david.asulin@e.braude.ac.il\n",
            "Courses: ['Physics', 'Cloud', 'Web']\n",
            "Link:    https://www.asos.com/\n",
            "TV show: The vikings\n",
            "------------------------------------------------\n",
            "Name:    Or Binyamin\n",
            "Mail:    or.binyamin@e.braude.ac.il\n",
            "Courses: ['Physics', 'Cloud', 'Web']\n",
            "Link:    https://www.castro.com/\n",
            "------------------------------------------------\n",
            "Name:    Or Binyamin\n",
            "Mail:    or.binyamin@e.braude.ac.il\n",
            "Courses: ['Physics', 'Cloud', 'Web']\n",
            "Link:    https://www.castro.com/\n",
            "TV show: The voice\n",
            "------------------------------------------------\n",
            "Name:    Bar Malka\n",
            "Mail:    bar.malka@e.braude.ac.il\n",
            "Courses: ['Physics', 'Cloud', 'Web']\n",
            "Link:    https://www.pullandbear.com/il/\n",
            "------------------------------------------------\n",
            "Name:    Bar Malka\n",
            "Mail:    bar.malka@e.braude.ac.il\n",
            "Courses: ['Physics', 'Cloud', 'Web']\n",
            "Link:    https://www.pullandbear.com/il/\n",
            "TV show: SUITS\n",
            "------------------------------------------------\n"
          ]
        }
      ]
    }
  ]
}